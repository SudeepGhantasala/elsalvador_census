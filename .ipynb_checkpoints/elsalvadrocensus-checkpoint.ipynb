{
 "cells": [
  {
   "cell_type": "code",
   "execution_count": 1,
   "id": "2404aba6",
   "metadata": {},
   "outputs": [],
   "source": [
    "import pandas as pd\n",
    "pd.set_option('display.max_columns', None)\n"
   ]
  },
  {
   "cell_type": "code",
   "execution_count": 2,
   "id": "d0f8cc47",
   "metadata": {
    "scrolled": true
   },
   "outputs": [],
   "source": [
    "df = pd.read_spss('C:/Users/sghantasala.RC-REMOTE-01/Downloads/EHPM SPSS 2021/EHPM 2021.sav')"
   ]
  },
  {
   "cell_type": "code",
   "execution_count": 18,
   "id": "3dd71a25",
   "metadata": {
    "scrolled": true
   },
   "outputs": [],
   "source": [
    "relevant = df[[\n",
    " 'viv',\n",
    " 'idboleta',\n",
    " 'area',\n",
    " 'region',\n",
    " 'correlativo',\n",
    " 'municauto',\n",
    " 'estratoarea',\n",
    " 'codigomunic',\n",
    " 'autorrepresentado',\n",
    " 'znorte',\n",
    " 'r004',\n",
    " 'r005',\n",
    " 'r006',\n",
    "'ingpe']]"
   ]
  },
  {
   "cell_type": "code",
   "execution_count": 22,
   "id": "76eacca7",
   "metadata": {},
   "outputs": [
    {
     "name": "stderr",
     "output_type": "stream",
     "text": [
      "C:\\ProgramData\\Anaconda3\\lib\\site-packages\\pandas\\core\\frame.py:4441: SettingWithCopyWarning: \n",
      "A value is trying to be set on a copy of a slice from a DataFrame\n",
      "\n",
      "See the caveats in the documentation: https://pandas.pydata.org/pandas-docs/stable/user_guide/indexing.html#returning-a-view-versus-a-copy\n",
      "  return super().rename(\n",
      "<ipython-input-22-f105281aac95>:17: SettingWithCopyWarning: \n",
      "A value is trying to be set on a copy of a slice from a DataFrame\n",
      "\n",
      "See the caveats in the documentation: https://pandas.pydata.org/pandas-docs/stable/user_guide/indexing.html#returning-a-view-versus-a-copy\n",
      "  relevant.drop_duplicates(inplace = True)\n"
     ]
    }
   ],
   "source": [
    "relevant.rename(columns = {'ingpe' : 'monthly per capita',\n",
    "'viv' : 'living place',\n",
    "'region' : 'geographic region',\n",
    "'area' : 'geographic area',\n",
    "'municauto' : 'self represented municipalities',\n",
    "'codigomunic' : 'municipality idenitfier',\n",
    "'autorrepresentado' : 'self-reporesented municipality',\n",
    "'znorte' : 'northzone',\n",
    "'idboleta' : 'home idenitfier',\n",
    "'estratoarea' :'strata',\n",
    "'r004' : 'department code',\n",
    "'r005' : 'municipality code',\n",
    "'r006': 'canton code',\n",
    "'correlativo' : 'correlative'}, inplace = True)\n",
    "\n",
    "\n",
    "relevant.drop_duplicates(inplace = True)"
   ]
  },
  {
   "cell_type": "code",
   "execution_count": 23,
   "id": "d147a59d",
   "metadata": {},
   "outputs": [],
   "source": [
    "regions_of_interest = [ 'San Marcos',\n",
    "                        'San Martín',\n",
    "                        'Ilopango',\n",
    "                        'Apopa',\n",
    "                        'Mejicanos',\n",
    "                        'Ayutuxtepeque',\n",
    "                        'Cuscatancingo',\n",
    "                        'Ciudad Delgado',\n",
    "                        'Tonacatepeque',\n",
    "                        'Nejapa',\n",
    "                        'Soyapango',\n",
    "                        'San Salvador',\n",
    "                      'Antiguo Cuscatlán',\n",
    "                       'Santa Tecla'\n",
    "                      ]\n",
    "\n",
    "filtered = relevant[relevant['municipality idenitfier'].isin(regions_of_interest) == True].reset_index(drop = True)"
   ]
  },
  {
   "cell_type": "code",
   "execution_count": 28,
   "id": "d4ec8b14",
   "metadata": {},
   "outputs": [],
   "source": [
    "filtered.to_csv('filtered.csv', index = False)"
   ]
  },
  {
   "cell_type": "code",
   "execution_count": 30,
   "id": "4292e77e",
   "metadata": {},
   "outputs": [],
   "source": [
    "df = pd.read_csv('filtered.csv')"
   ]
  },
  {
   "cell_type": "code",
   "execution_count": 37,
   "id": "98e45357",
   "metadata": {},
   "outputs": [],
   "source": [
    "df[['municipality idenitfier', 'monthly per capita']].groupby('municipality idenitfier').mean('monthly per capita').reset_index().to_csv('means.csv')"
   ]
  },
  {
   "cell_type": "code",
   "execution_count": 40,
   "id": "019dd2b9",
   "metadata": {},
   "outputs": [],
   "source": [
    "df[df['municipality idenitfier'] ==   'Antiguo Cuscatlán'].to_csv('antigue.csv')"
   ]
  },
  {
   "cell_type": "code",
   "execution_count": null,
   "id": "836025d1",
   "metadata": {},
   "outputs": [],
   "source": []
  }
 ],
 "metadata": {
  "kernelspec": {
   "display_name": "Python 3",
   "language": "python",
   "name": "python3"
  },
  "language_info": {
   "codemirror_mode": {
    "name": "ipython",
    "version": 3
   },
   "file_extension": ".py",
   "mimetype": "text/x-python",
   "name": "python",
   "nbconvert_exporter": "python",
   "pygments_lexer": "ipython3",
   "version": "3.8.8"
  }
 },
 "nbformat": 4,
 "nbformat_minor": 5
}
